{
  "cells": [
    {
      "cell_type": "markdown",
      "metadata": {
        "id": "uYtoFwJMbo5Q"
      },
      "source": [
        "# Introduction\n",
        "In this worksheet you will write functions to implement evaluation metrics for classification and regression problems. You will:\n",
        " - Use library functions from scikit-learn (https://scikit-learn.org/stable/)\n",
        " - Use NumPy and matplotlib\n",
        " - Write and call functions in Python\n",
        " - Gain understanding of the evaluation metrics used.\n",
        "\n",
        "\n",
        "Scikit-learn (https://scikit-learn.org/stable/) is a Python library with a wide range of ML algorithms. We will be using some of these algorithms during this course, but we will also be looking at the principles behind the algorithms in order to understand these rather than simply applying functions from libraries."
      ]
    },
    {
      "cell_type": "markdown",
      "metadata": {
        "id": "sGSJgRwNbo5S"
      },
      "source": [
        "# 0. Preliminaries\n",
        "We firstly import NumPy and matplotlib as we will be using these throughout the worksheet. We use a 'magic' function `%matplotlib inline` to display plots in the worksheet."
      ]
    },
    {
      "cell_type": "code",
      "execution_count": 1,
      "metadata": {
        "id": "0NW0x0aJbo5S"
      },
      "outputs": [],
      "source": [
        "import numpy as np\n",
        "import matplotlib.pyplot as plt\n",
        "%matplotlib inline"
      ]
    },
    {
      "cell_type": "markdown",
      "metadata": {
        "id": "DkaO-gWtbo5T"
      },
      "source": [
        "# 1. Classification\n",
        "In this question you will use a toy dataset from scikit-learn. You will use functions from scikit-learn to load the data, divide it into training and testing sets, and then fit a simple classifier to the training set. You will then write functions to calculate accuracy, precision, and recall. Finally, you will check your functions against the functions from scikit-learn.\n",
        "\n",
        "## Part a) Load the data"
      ]
    },
    {
      "cell_type": "code",
      "execution_count": 2,
      "metadata": {
        "id": "sLrHslFKbo5T"
      },
      "outputs": [],
      "source": [
        "# scikit-learn comes with a number of toy datasets (https://sklearn.org/datasets/index.html#toy-datasets)\n",
        "from sklearn import datasets\n",
        "\n",
        "# Load the wine dataset from sklearn. You may want to take a look at the format of the dataset\n",
        "wine = datasets.load_wine()\n",
        "\n",
        "# Save the datapoints into the variable X and the targets into the variable y\n",
        "X = wine.data\n",
        "y = wine.target"
      ]
    },
    {
      "cell_type": "code",
      "execution_count": 3,
      "metadata": {
        "id": "blIJQvj3bo5T",
        "outputId": "a9d9e6e2-ea3b-46fa-ed6b-cee5c4a72b93",
        "colab": {
          "base_uri": "https://localhost:8080/"
        }
      },
      "outputs": [
        {
          "output_type": "execute_result",
          "data": {
            "text/plain": [
              "numpy.ndarray"
            ]
          },
          "metadata": {},
          "execution_count": 3
        }
      ],
      "source": [
        "type(y)"
      ]
    },
    {
      "cell_type": "markdown",
      "metadata": {
        "id": "88a1sFcqbo5T"
      },
      "source": [
        "Take a look at the target values in y. What do you notice about these? Why are these suitable for a classification algorithm rather than a regression algorithm?"
      ]
    },
    {
      "cell_type": "code",
      "execution_count": 6,
      "metadata": {
        "id": "1j-WEluHbo5T",
        "outputId": "c4344dee-2bc3-4ab3-f153-bfb5a9b9e050",
        "colab": {
          "base_uri": "https://localhost:8080/"
        }
      },
      "outputs": [
        {
          "output_type": "execute_result",
          "data": {
            "text/plain": [
              "array([0, 0, 0, 0, 0, 0, 0, 0, 0, 0, 0, 0, 0, 0, 0, 0, 0, 0, 0, 0, 0, 0,\n",
              "       0, 0, 0, 0, 0, 0, 0, 0, 0, 0, 0, 0, 0, 0, 0, 0, 0, 0, 0, 0, 0, 0,\n",
              "       0, 0, 0, 0, 0, 0, 0, 0, 0, 0, 0, 0, 0, 0, 0, 1, 1, 1, 1, 1, 1, 1,\n",
              "       1, 1, 1, 1, 1, 1, 1, 1, 1, 1, 1, 1, 1, 1, 1, 1, 1, 1, 1, 1, 1, 1,\n",
              "       1, 1, 1, 1, 1, 1, 1, 1, 1, 1, 1, 1, 1, 1, 1, 1, 1, 1, 1, 1, 1, 1,\n",
              "       1, 1, 1, 1, 1, 1, 1, 1, 1, 1, 1, 1, 1, 1, 1, 1, 1, 1, 1, 1, 2, 2,\n",
              "       2, 2, 2, 2, 2, 2, 2, 2, 2, 2, 2, 2, 2, 2, 2, 2, 2, 2, 2, 2, 2, 2,\n",
              "       2, 2, 2, 2, 2, 2, 2, 2, 2, 2, 2, 2, 2, 2, 2, 2, 2, 2, 2, 2, 2, 2,\n",
              "       2, 2])"
            ]
          },
          "metadata": {},
          "execution_count": 6
        }
      ],
      "source": [
        "#  Look at the values in y\n",
        "##TODO##\n",
        "y"
      ]
    },
    {
      "cell_type": "markdown",
      "metadata": {
        "id": "tQAuUtVtbo5T"
      },
      "source": [
        "## Part b) Divide the data into training and testing sets\n",
        "Use the function `train_test_split` from `sklearn.model_selection` to split out the data and targets into training and testing sets."
      ]
    },
    {
      "cell_type": "code",
      "execution_count": 7,
      "metadata": {
        "id": "fpJUlIhAbo5U"
      },
      "outputs": [],
      "source": [
        "# We import the function train_test_split from sklearn and use this to split the data\n",
        "from sklearn.model_selection import train_test_split\n",
        "\n",
        "# The function returns splits of each array passed in.\n",
        "# The proportion to be used as the training set is given by test_size\n",
        "X_train, X_test, y_train, y_test = train_test_split(X, y, test_size=0.2)"
      ]
    },
    {
      "cell_type": "markdown",
      "source": [],
      "metadata": {
        "id": "yxHky1bvfR4c"
      }
    },
    {
      "cell_type": "markdown",
      "metadata": {
        "id": "EtR9l8Z7bo5U"
      },
      "source": [
        "## Part c) Import the k-nearest neighbours classifier and run it on the data\n",
        "Scikit-learn has a huge range of *estimators* that you can use with your dataset. An estimator is any procedure that can be used to fit data and make predictions from it. Here we will import the k-nearest neighbours classifier, instantiate it, run it on our training set, and then use it to generate some predictions. You will learn more about k-nearest neighbours in Week 14. For now, we are simply using it to generate some predictions.\n",
        "\n",
        "The general procedure for using the estimators in scikit-learn is as follows. Every estimator has a method `fit(X, y)` and a method `predict(T)`.\n",
        "\n",
        "1) Import the estimator\n",
        "    e.g. `from sklearn.models import Classifier`\n",
        "    \n",
        "2) Instantiate the estimator to a variable\n",
        "    e.g. `est = Classifier(hparams)`\n",
        "    \n",
        "3) Fit the estimator to the data\n",
        "    e.g. `est.fit(X, y)`\n",
        "    \n",
        "4) Make a prediction\n",
        "    e.g. `predictions = est.predict(test_data)`\n",
        "    \n",
        "You can see an example of this in the code below:"
      ]
    },
    {
      "cell_type": "code",
      "execution_count": 9,
      "metadata": {
        "scrolled": true,
        "id": "HT5ot4Qgbo5U"
      },
      "outputs": [],
      "source": [
        "# We first import the classifier\n",
        "from sklearn.neighbors import KNeighborsClassifier\n",
        "\n",
        "# We instantiate the classifier with 5 neighbours\n",
        "knn = KNeighborsClassifier(n_neighbors=5)\n",
        "\n",
        "# We fit the model using our training data\n",
        "knn.fit(X_train, y_train)\n",
        "\n",
        "# Finally, we generate predictions on the test data\n",
        "ypred_test=knn.predict(X_test)"
      ]
    },
    {
      "cell_type": "markdown",
      "metadata": {
        "id": "BywLmYq-bo5U"
      },
      "source": [
        "## Part d) Evaluating the classifier\n",
        "In this section we will implement functions for accuracy, precision and recall, and compare them with the functions given in sklearn (they should give the same results!)\n",
        "\n",
        "The wine dataset has 3 classes. We will write functions to compute the accuracy of the classifer, the macro-averaged precision and the macro-averaged recall.\n",
        "\n",
        "Recall the equations for accuracy, precision, and recall:\n",
        "\n",
        "$$Accuracy = \\frac{\\text{Number correct}}{\\text{Total datapoints}}$$\n",
        "i.e. the number of correctly classified datapoints as a proportion of all $n$ datapoints\n",
        "\n",
        "$$Precision_c = \\frac{TP_c}{TP_c+FP_c}$$\n",
        "i.e. the precision for class $c$ is the number of true positives for class $c$ as a proportion of the total number of positive predictions for class $c$\n",
        "\n",
        "$$Recall_c = \\frac{TP_c}{TP_c+FN_c}$$\n",
        "i.e. the recall for class $c$ is the number of true positives for class $c$ as a proportion of the total number of actual positives for class $c$\n",
        "\n",
        "The macro-averaged precision and macro-averaged recall are then simply calculated by averaging the precision (or recall) for each class:\n",
        "\n",
        "$$Precision = \\frac{1}{k} \\sum_{c = 1}^k Precision_c, \\quad Recall = \\frac{1}{k} \\sum_{c = 1}^k Recall_c$$\n",
        "\n",
        "We can automatically generate the confusion matrix for our data using the function `confusion_matrix` from `sklearn.metrics`"
      ]
    },
    {
      "cell_type": "code",
      "execution_count": 10,
      "metadata": {
        "id": "LOMvMNzPbo5U"
      },
      "outputs": [],
      "source": [
        "# Import the function confusion_matrix\n",
        "from sklearn.metrics import confusion_matrix\n",
        "\n",
        "#Build the confusion matrix from the target test set y_test and our predicted values ypred_test\n",
        "cm = confusion_matrix(y_test, ypred_test)"
      ]
    },
    {
      "cell_type": "markdown",
      "metadata": {
        "id": "7izSlo-5bo5U"
      },
      "source": [
        "Take a look at the confusion matrix. What should its dimensions be?"
      ]
    },
    {
      "cell_type": "code",
      "execution_count": 11,
      "metadata": {
        "id": "HrC8mWMhbo5U",
        "outputId": "dc0c7daa-c0e1-4b90-d751-3b873a65a859",
        "colab": {
          "base_uri": "https://localhost:8080/"
        }
      },
      "outputs": [
        {
          "output_type": "execute_result",
          "data": {
            "text/plain": [
              "array([[12,  1,  2],\n",
              "       [ 1,  9,  3],\n",
              "       [ 1,  3,  4]])"
            ]
          },
          "metadata": {},
          "execution_count": 11
        }
      ],
      "source": [
        "# Look at the confusion matrix cm\n",
        "##TODO##\n",
        "cm"
      ]
    },
    {
      "cell_type": "markdown",
      "metadata": {
        "id": "bZ4kPGq3bo5V"
      },
      "source": [
        "(**Optional**) Write a function `my_accuracy` that takes in two arrays `y` for target values and `pred` for predicted  values, and returns accuracy."
      ]
    },
    {
      "cell_type": "code",
      "execution_count": 14,
      "metadata": {
        "id": "Jyqqa6A9bo5V",
        "outputId": "bcf8306f-2361-40b1-a197-b03323c2ffff",
        "colab": {
          "base_uri": "https://localhost:8080/"
        }
      },
      "outputs": [
        {
          "output_type": "execute_result",
          "data": {
            "text/plain": [
              "0.6944444444444444"
            ]
          },
          "metadata": {},
          "execution_count": 14
        }
      ],
      "source": [
        "def my_accuracy(y, pred):\n",
        "    # Write your answer here\n",
        "    acc = 0\n",
        "    for i in range(len(y)):\n",
        "      if y[i] == pred[i]:\n",
        "        acc += 1\n",
        "    acc = acc / len(y)\n",
        "    return acc\n",
        "my_accuracy(y_test, ypred_test)"
      ]
    },
    {
      "cell_type": "code",
      "source": [
        "from sklearn.metrics import accuracy_score\n",
        "accuracy_score(y_test, ypred_test)"
      ],
      "metadata": {
        "id": "VI_f4ra6ld7E",
        "outputId": "5538760e-8e94-4aec-f03b-25cdc1f3a56c",
        "colab": {
          "base_uri": "https://localhost:8080/"
        }
      },
      "execution_count": 17,
      "outputs": [
        {
          "output_type": "execute_result",
          "data": {
            "text/plain": [
              "0.6944444444444444"
            ]
          },
          "metadata": {},
          "execution_count": 17
        }
      ]
    },
    {
      "cell_type": "markdown",
      "metadata": {
        "id": "o3rOB-erbo5V"
      },
      "source": [
        "(**Optional**) Write a function `my_recall_macro` that takes in two arrays `y` for target values and `pred` for predicted  values, and returns recall."
      ]
    },
    {
      "cell_type": "code",
      "execution_count": 15,
      "metadata": {
        "id": "Un-RbkSZbo5V",
        "outputId": "83facb2e-c113-4bc1-e111-ccb12a0c9ef5",
        "colab": {
          "base_uri": "https://localhost:8080/"
        }
      },
      "outputs": [
        {
          "output_type": "execute_result",
          "data": {
            "text/plain": [
              "0.6641025641025641"
            ]
          },
          "metadata": {},
          "execution_count": 15
        }
      ],
      "source": [
        "def my_recall_macro(y, pred):\n",
        "    recalls = []\n",
        "    cm = confusion_matrix(y, pred)\n",
        "    for i in range(len(cm[0])):\n",
        "      tol = 0\n",
        "      for j in range(len(cm[0])):\n",
        "        tol += cm[i][j]\n",
        "      recalls.append(cm[i][i]/tol)\n",
        "    # Write your answer here\n",
        "    return np.mean(recalls)\n",
        "my_recall_macro(y_test, ypred_test)"
      ]
    },
    {
      "cell_type": "code",
      "source": [
        "from sklearn.metrics import recall_score\n",
        "recall_score(y_test, ypred_test, average = 'macro')"
      ],
      "metadata": {
        "id": "lThY1-srl8hK",
        "outputId": "a6990194-a501-4f45-bb1b-bfcaefa4cdaf",
        "colab": {
          "base_uri": "https://localhost:8080/"
        }
      },
      "execution_count": 20,
      "outputs": [
        {
          "output_type": "execute_result",
          "data": {
            "text/plain": [
              "0.6641025641025641"
            ]
          },
          "metadata": {},
          "execution_count": 20
        }
      ]
    },
    {
      "cell_type": "markdown",
      "metadata": {
        "id": "_Smx3SEDbo5V"
      },
      "source": [
        "(**Optional**) Write a function `my_precision_macro` that takes in two arrays `y` for target values and `pred` for predicted  values, and returns precision."
      ]
    },
    {
      "cell_type": "code",
      "execution_count": 22,
      "metadata": {
        "id": "G0DVVqKibo5V",
        "outputId": "4a12aaaf-493d-4a03-d800-cefefbe3fbe8",
        "colab": {
          "base_uri": "https://localhost:8080/"
        }
      },
      "outputs": [
        {
          "output_type": "execute_result",
          "data": {
            "text/plain": [
              "0.6646316646316646"
            ]
          },
          "metadata": {},
          "execution_count": 22
        }
      ],
      "source": [
        "def my_precision_macro(y, pred):\n",
        "    precisions = []\n",
        "    cm = confusion_matrix(y, pred)\n",
        "    for i in range(len(cm[0])):\n",
        "      tol = 0\n",
        "      for j in range(len(cm[0])):\n",
        "        tol += cm[j][i]\n",
        "      precisions.append(cm[i][i]/tol)\n",
        "    return np.mean(precisions)\n",
        "my_precision_macro(y_test, ypred_test)"
      ]
    },
    {
      "cell_type": "code",
      "source": [
        "from sklearn.metrics import precision_score\n",
        "precision_score(y_test, ypred_test, average = 'macro')"
      ],
      "metadata": {
        "id": "8MwyF08fnqhR",
        "outputId": "5f970f36-dfb5-4432-f980-d9dc5726cce7",
        "colab": {
          "base_uri": "https://localhost:8080/"
        }
      },
      "execution_count": 23,
      "outputs": [
        {
          "output_type": "execute_result",
          "data": {
            "text/plain": [
              "0.6646316646316646"
            ]
          },
          "metadata": {},
          "execution_count": 23
        }
      ]
    },
    {
      "cell_type": "markdown",
      "metadata": {
        "id": "wl9EUbJibo5V"
      },
      "source": [
        "(**Optional**) Check that your functions match those in sklearn."
      ]
    },
    {
      "cell_type": "code",
      "execution_count": null,
      "metadata": {
        "id": "L2a8tQv4bo5V"
      },
      "outputs": [],
      "source": [
        "from sklearn.metrics import precision_score, recall_score, accuracy_score\n",
        "my_accuracy(y_test, ypred_test) == accuracy_score(y_test, ypred_test)"
      ]
    },
    {
      "cell_type": "code",
      "execution_count": null,
      "metadata": {
        "id": "PeHOGctlbo5V"
      },
      "outputs": [],
      "source": [
        "my_recall_macro(y_test, ypred_test)==recall_score(y_test, ypred_test, average='macro')"
      ]
    },
    {
      "cell_type": "code",
      "execution_count": null,
      "metadata": {
        "id": "8QTJ98vcbo5W"
      },
      "outputs": [],
      "source": [
        "my_precision_macro(y_test, ypred_test)==precision_score(y_test, ypred_test, average='macro')\n"
      ]
    },
    {
      "cell_type": "markdown",
      "metadata": {
        "id": "nQ4iMaxwbo5W"
      },
      "source": [
        "# 2. Regression\n",
        "\n",
        "In this question we will use sklearn to fit a linear model to some artificial data. You will then implement a function to calculate the mean squared error and a function to calculate $r^2$.\n",
        "\n",
        "The model we fit is just a line, i.e. $y = ax + b$.\n",
        "\n",
        "## Part a) Create an artificial dataset\n",
        "We start off by creating some artificial data that is a line with some noise added."
      ]
    },
    {
      "cell_type": "code",
      "execution_count": 24,
      "metadata": {
        "id": "pVI6mnGcbo5W"
      },
      "outputs": [],
      "source": [
        "# We set up a random number generator (rng), seeded with a number (in this case 10).\n",
        "# Using a seed means we can generate the same sequence of pseudorandom numbers, and so we can check results easily.\n",
        "rng = np.random.default_rng(10)\n",
        "\n",
        "# a and b are coefficients for the line\n",
        "a = 2\n",
        "b = -1\n",
        "\n",
        "# Use np.linspace to generate datapoints from 0 to 10 (inclusive) spaced at 0.1\n",
        "X = np.linspace(0, 10, 101)\n",
        "\n",
        "# Create data Y using the equation for a line\n",
        "Y = a*X + b\n",
        "\n",
        "# Adds Gaussian noise with mean 0 and standard deviation 3 to the data\n",
        "Y = Y + 3*rng.standard_normal(len(Y))"
      ]
    },
    {
      "cell_type": "markdown",
      "metadata": {
        "id": "-oTJYrZKbo5W"
      },
      "source": [
        "## Part b) Plot the data on named axes"
      ]
    },
    {
      "cell_type": "code",
      "execution_count": 25,
      "metadata": {
        "id": "lBEeUdelbo5W",
        "outputId": "5669b201-0536-4cb5-88e4-29e1ebb25088",
        "colab": {
          "base_uri": "https://localhost:8080/",
          "height": 470
        }
      },
      "outputs": [
        {
          "output_type": "execute_result",
          "data": {
            "text/plain": [
              "Text(0, 0.5, 'y')"
            ]
          },
          "metadata": {},
          "execution_count": 25
        },
        {
          "output_type": "display_data",
          "data": {
            "text/plain": [
              "<Figure size 640x480 with 1 Axes>"
            ],
            "image/png": "[encoded data removed]"
          },
          "metadata": {}
        }
      ],
      "source": [
        "fig, ax = plt.subplots() # This generates us a named figure and axes\n",
        "ax.scatter(X, Y, label = 'Data') # We generate a scatterplot of the data on the axes.\n",
        "plt.xlabel('x')\n",
        "plt.ylabel('y')"
      ]
    },
    {
      "cell_type": "markdown",
      "metadata": {
        "id": "nJijMJjgbo5W"
      },
      "source": [
        "## Part c) Split the data into training and testing sets\n",
        "Split the data X and targets Y into training and testing sets using the function `train_test_split`. Set the proportion of the dataset to use as test data to 0.1."
      ]
    },
    {
      "cell_type": "code",
      "execution_count": 29,
      "metadata": {
        "id": "LUB9acY1bo5W"
      },
      "outputs": [],
      "source": [
        "# Write your answer here\n",
        "##TODO##\n",
        "Xtrain, Xtest, ytrain, ytest = train_test_split(X, Y, test_size=0.2)"
      ]
    },
    {
      "cell_type": "markdown",
      "metadata": {
        "id": "2SGpzSxybo5W"
      },
      "source": [
        "## Part d) Instantiate and fit the estimator\n",
        "Import the estimator `LinearRegression` from `sklearn.linear_model` and instantiate it. No parameters are needed."
      ]
    },
    {
      "cell_type": "code",
      "execution_count": 27,
      "metadata": {
        "id": "lwSps2JKbo5W"
      },
      "outputs": [],
      "source": [
        "# Write your answer here\n",
        "##TODO##\n",
        "from sklearn.linear_model import LinearRegression\n",
        "my_liner = LinearRegression()"
      ]
    },
    {
      "cell_type": "markdown",
      "metadata": {
        "id": "UbneVQHMbo5W"
      },
      "source": [
        "You will need to reshape the data (but not the targets) before passing it to this model."
      ]
    },
    {
      "cell_type": "code",
      "source": [
        "Xtrain"
      ],
      "metadata": {
        "id": "JZa1LBo_prL6",
        "outputId": "8790b389-c93f-4be3-a66c-0fa694c6807b",
        "colab": {
          "base_uri": "https://localhost:8080/"
        }
      },
      "execution_count": 30,
      "outputs": [
        {
          "output_type": "execute_result",
          "data": {
            "text/plain": [
              "array([ 7.5,  9.7,  2.5,  2.2,  9.2,  1.6,  9.5,  3.9,  7.4,  4.8,  8.3,\n",
              "        8.1,  0. ,  4.2,  3.6,  6.5,  5.2,  6.9,  1.8,  0.9,  0.5,  7.3,\n",
              "        8.9,  9.4,  6. ,  5.4,  8.4,  7.1,  3.7,  4.3,  5.7,  1. ,  6.4,\n",
              "        3.8,  3.2,  5. ,  2.7,  2.4,  3. ,  5.3,  9.6,  8.2,  5.5,  4.6,\n",
              "        7.9,  4.4,  4.1,  6.8,  7.6,  1.1,  7.8,  2.1,  9.9,  8.6,  8.7,\n",
              "        5.9,  2. ,  6.2,  2.3,  8. ,  1.2, 10. ,  1.4,  7.7,  1.7,  3.5,\n",
              "        5.8,  6.1,  1.9,  4. ,  3.4,  9.3,  3.3,  5.1,  9.1,  8.5,  0.6,\n",
              "        7.2,  6.6,  7. ])"
            ]
          },
          "metadata": {},
          "execution_count": 30
        }
      ]
    },
    {
      "cell_type": "code",
      "execution_count": 31,
      "metadata": {
        "id": "zBMJm1J7bo5X",
        "outputId": "0cb13b54-ec2f-463a-cdfb-f5aabc9c86bf",
        "colab": {
          "base_uri": "https://localhost:8080/"
        }
      },
      "outputs": [
        {
          "output_type": "execute_result",
          "data": {
            "text/plain": [
              "array([[ 7.5],\n",
              "       [ 9.7],\n",
              "       [ 2.5],\n",
              "       [ 2.2],\n",
              "       [ 9.2],\n",
              "       [ 1.6],\n",
              "       [ 9.5],\n",
              "       [ 3.9],\n",
              "       [ 7.4],\n",
              "       [ 4.8],\n",
              "       [ 8.3],\n",
              "       [ 8.1],\n",
              "       [ 0. ],\n",
              "       [ 4.2],\n",
              "       [ 3.6],\n",
              "       [ 6.5],\n",
              "       [ 5.2],\n",
              "       [ 6.9],\n",
              "       [ 1.8],\n",
              "       [ 0.9],\n",
              "       [ 0.5],\n",
              "       [ 7.3],\n",
              "       [ 8.9],\n",
              "       [ 9.4],\n",
              "       [ 6. ],\n",
              "       [ 5.4],\n",
              "       [ 8.4],\n",
              "       [ 7.1],\n",
              "       [ 3.7],\n",
              "       [ 4.3],\n",
              "       [ 5.7],\n",
              "       [ 1. ],\n",
              "       [ 6.4],\n",
              "       [ 3.8],\n",
              "       [ 3.2],\n",
              "       [ 5. ],\n",
              "       [ 2.7],\n",
              "       [ 2.4],\n",
              "       [ 3. ],\n",
              "       [ 5.3],\n",
              "       [ 9.6],\n",
              "       [ 8.2],\n",
              "       [ 5.5],\n",
              "       [ 4.6],\n",
              "       [ 7.9],\n",
              "       [ 4.4],\n",
              "       [ 4.1],\n",
              "       [ 6.8],\n",
              "       [ 7.6],\n",
              "       [ 1.1],\n",
              "       [ 7.8],\n",
              "       [ 2.1],\n",
              "       [ 9.9],\n",
              "       [ 8.6],\n",
              "       [ 8.7],\n",
              "       [ 5.9],\n",
              "       [ 2. ],\n",
              "       [ 6.2],\n",
              "       [ 2.3],\n",
              "       [ 8. ],\n",
              "       [ 1.2],\n",
              "       [10. ],\n",
              "       [ 1.4],\n",
              "       [ 7.7],\n",
              "       [ 1.7],\n",
              "       [ 3.5],\n",
              "       [ 5.8],\n",
              "       [ 6.1],\n",
              "       [ 1.9],\n",
              "       [ 4. ],\n",
              "       [ 3.4],\n",
              "       [ 9.3],\n",
              "       [ 3.3],\n",
              "       [ 5.1],\n",
              "       [ 9.1],\n",
              "       [ 8.5],\n",
              "       [ 0.6],\n",
              "       [ 7.2],\n",
              "       [ 6.6],\n",
              "       [ 7. ]])"
            ]
          },
          "metadata": {},
          "execution_count": 31
        }
      ],
      "source": [
        "# This reshapes the data to have 1 column and however many rows make sense for the data\n",
        "Xtrain = Xtrain.reshape(-1, 1)\n",
        "Xtrain"
      ]
    },
    {
      "cell_type": "markdown",
      "metadata": {
        "id": "ygT8MIs9bo5X"
      },
      "source": [
        "Call the method `fit` with your training data to train the model"
      ]
    },
    {
      "cell_type": "code",
      "execution_count": 32,
      "metadata": {
        "id": "rH4XtGO5bo5X",
        "outputId": "dbf5ac4b-6ff6-42a3-957d-150d098055a5",
        "colab": {
          "base_uri": "https://localhost:8080/",
          "height": 74
        }
      },
      "outputs": [
        {
          "output_type": "execute_result",
          "data": {
            "text/plain": [
              "LinearRegression()"
            ],
            "text/html": [
              "<style>#sk-container-id-1 {color: black;background-color: white;}#sk-container-id-1 pre{padding: 0;}#sk-container-id-1 div.sk-toggleable {background-color: white;}#sk-container-id-1 label.sk-toggleable__label {cursor: pointer;display: block;width: 100%;margin-bottom: 0;padding: 0.3em;box-sizing: border-box;text-align: center;}#sk-container-id-1 label.sk-toggleable__label-arrow:before {content: \"▸\";float: left;margin-right: 0.25em;color: #696969;}#sk-container-id-1 label.sk-toggleable__label-arrow:hover:before {color: black;}#sk-container-id-1 div.sk-estimator:hover label.sk-toggleable__label-arrow:before {color: black;}#sk-container-id-1 div.sk-toggleable__content {max-height: 0;max-width: 0;overflow: hidden;text-align: left;background-color: #f0f8ff;}#sk-container-id-1 div.sk-toggleable__content pre {margin: 0.2em;color: black;border-radius: 0.25em;background-color: #f0f8ff;}#sk-container-id-1 input.sk-toggleable__control:checked~div.sk-toggleable__content {max-height: 200px;max-width: 100%;overflow: auto;}#sk-container-id-1 input.sk-toggleable__control:checked~label.sk-toggleable__label-arrow:before {content: \"▾\";}#sk-container-id-1 div.sk-estimator input.sk-toggleable__control:checked~label.sk-toggleable__label {background-color: #d4ebff;}#sk-container-id-1 div.sk-label input.sk-toggleable__control:checked~label.sk-toggleable__label {background-color: #d4ebff;}#sk-container-id-1 input.sk-hidden--visually {border: 0;clip: rect(1px 1px 1px 1px);clip: rect(1px, 1px, 1px, 1px);height: 1px;margin: -1px;overflow: hidden;padding: 0;position: absolute;width: 1px;}#sk-container-id-1 div.sk-estimator {font-family: monospace;background-color: #f0f8ff;border: 1px dotted black;border-radius: 0.25em;box-sizing: border-box;margin-bottom: 0.5em;}#sk-container-id-1 div.sk-estimator:hover {background-color: #d4ebff;}#sk-container-id-1 div.sk-parallel-item::after {content: \"\";width: 100%;border-bottom: 1px solid gray;flex-grow: 1;}#sk-container-id-1 div.sk-label:hover label.sk-toggleable__label {background-color: #d4ebff;}#sk-container-id-1 div.sk-serial::before {content: \"\";position: absolute;border-left: 1px solid gray;box-sizing: border-box;top: 0;bottom: 0;left: 50%;z-index: 0;}#sk-container-id-1 div.sk-serial {display: flex;flex-direction: column;align-items: center;background-color: white;padding-right: 0.2em;padding-left: 0.2em;position: relative;}#sk-container-id-1 div.sk-item {position: relative;z-index: 1;}#sk-container-id-1 div.sk-parallel {display: flex;align-items: stretch;justify-content: center;background-color: white;position: relative;}#sk-container-id-1 div.sk-item::before, #sk-container-id-1 div.sk-parallel-item::before {content: \"\";position: absolute;border-left: 1px solid gray;box-sizing: border-box;top: 0;bottom: 0;left: 50%;z-index: -1;}#sk-container-id-1 div.sk-parallel-item {display: flex;flex-direction: column;z-index: 1;position: relative;background-color: white;}#sk-container-id-1 div.sk-parallel-item:first-child::after {align-self: flex-end;width: 50%;}#sk-container-id-1 div.sk-parallel-item:last-child::after {align-self: flex-start;width: 50%;}#sk-container-id-1 div.sk-parallel-item:only-child::after {width: 0;}#sk-container-id-1 div.sk-dashed-wrapped {border: 1px dashed gray;margin: 0 0.4em 0.5em 0.4em;box-sizing: border-box;padding-bottom: 0.4em;background-color: white;}#sk-container-id-1 div.sk-label label {font-family: monospace;font-weight: bold;display: inline-block;line-height: 1.2em;}#sk-container-id-1 div.sk-label-container {text-align: center;}#sk-container-id-1 div.sk-container {/* jupyter's `normalize.less` sets `[hidden] { display: none; }` but bootstrap.min.css set `[hidden] { display: none !important; }` so we also need the `!important` here to be able to override the default hidden behavior on the sphinx rendered scikit-learn.org. See: https://github.com/scikit-learn/scikit-learn/issues/21755 */display: inline-block !important;position: relative;}#sk-container-id-1 div.sk-text-repr-fallback {display: none;}</style><div id=\"sk-container-id-1\" class=\"sk-top-container\"><div class=\"sk-text-repr-fallback\"><pre>LinearRegression()</pre><b>In a Jupyter environment, please rerun this cell to show the HTML representation or trust the notebook. <br />On GitHub, the HTML representation is unable to render, please try loading this page with nbviewer.org.</b></div><div class=\"sk-container\" hidden><div class=\"sk-item\"><div class=\"sk-estimator sk-toggleable\"><input class=\"sk-toggleable__control sk-hidden--visually\" id=\"sk-estimator-id-1\" type=\"checkbox\" checked><label for=\"sk-estimator-id-1\" class=\"sk-toggleable__label sk-toggleable__label-arrow\">LinearRegression</label><div class=\"sk-toggleable__content\"><pre>LinearRegression()</pre></div></div></div></div></div>"
            ]
          },
          "metadata": {},
          "execution_count": 32
        }
      ],
      "source": [
        "# Write your answer here\n",
        "##TODO##\n",
        "my_liner.fit(Xtrain, ytrain)"
      ]
    },
    {
      "cell_type": "markdown",
      "metadata": {
        "id": "v4yX4xmLbo5X"
      },
      "source": [
        "The coefficient(s) and intercept for the trained model ($a$ and $b$ in our case) are called `coef_` and `intercept_`. Are these what you would expect? Are they similar to the values of `a` and `b` that we used to generate the data?"
      ]
    },
    {
      "cell_type": "code",
      "execution_count": 36,
      "metadata": {
        "id": "gBJ4-lshbo5f"
      },
      "outputs": [],
      "source": [
        "# Look at coef_ and intercept_\n",
        "##TODO###\n",
        "A=my_liner.coef_\n",
        "B=my_liner.intercept_"
      ]
    },
    {
      "cell_type": "markdown",
      "metadata": {
        "id": "LRQ3kwzObo5f"
      },
      "source": [
        "Using the values stored in `coef_` and `intercept_`, plot a line representing the fitted model on the same axes (`ax`) as before. Type `fig` to view the plot."
      ]
    },
    {
      "cell_type": "code",
      "execution_count": 39,
      "metadata": {
        "id": "BAUXqRcNbo5g",
        "outputId": "f2a95f9e-1f9c-4c6d-bbfb-5fae839b8eba",
        "colab": {
          "base_uri": "https://localhost:8080/",
          "height": 454
        }
      },
      "outputs": [
        {
          "output_type": "display_data",
          "data": {
            "text/plain": [
              "<Figure size 640x480 with 1 Axes>"
            ],
            "image/png": "[encoded data removed]"
          },
          "metadata": {}
        }
      ],
      "source": [
        "# Write your answer here\n",
        "##TODO###\n",
        "fig, ax = plt.subplots() # This generates us a named figure and axes\n",
        "plt.xlabel('x')\n",
        "plt.ylabel('y')\n",
        "x = np.linspace(start=0, stop=10, num=300)\n",
        "ax.plot(x, a*x + b, label='ori')\n",
        "ax.plot(x, A*x + B, label='fit')\n",
        "ax.legend()\n",
        "plt.show()"
      ]
    },
    {
      "cell_type": "markdown",
      "metadata": {
        "id": "vE2ueHWJbo5g"
      },
      "source": [
        "Reshape the test data to have one column and then call `predict` on the regression model to get the predicted y values"
      ]
    },
    {
      "cell_type": "code",
      "execution_count": 40,
      "metadata": {
        "id": "r_kU8wGKbo5g"
      },
      "outputs": [],
      "source": [
        "Xtest = Xtest.reshape(-1, 1)\n",
        "# Call predict on the regression model and assign the output to\n",
        "# a variable ypred\n",
        "##TODO###"
      ]
    },
    {
      "cell_type": "markdown",
      "metadata": {
        "id": "dJfeolbobo5g"
      },
      "source": [
        "## (Optional) Part e) Calculating mean squared error\n",
        "The equation for the mean squared error is\n",
        "$$ MSE = \\frac{\\sum_{i = 1}^n (y_i - f(x_i))^2}{n} $$\n",
        "Write a function that takes in arrays for the target values `y` and the predicted values `pred` and returns the mean squared error."
      ]
    },
    {
      "cell_type": "code",
      "execution_count": null,
      "metadata": {
        "id": "AGoNDF5pbo5g"
      },
      "outputs": [],
      "source": [
        "# Fill in the body of the function\n",
        "def MSE(y, pred):\n",
        "    pass\n",
        "    ##TODO###"
      ]
    },
    {
      "cell_type": "markdown",
      "metadata": {
        "id": "w4sicmi4bo5g"
      },
      "source": [
        "Check your function against the function `mean_squared_error` from `sklearn.metrics`"
      ]
    },
    {
      "cell_type": "code",
      "execution_count": null,
      "metadata": {
        "id": "lXDhYnmfbo5g"
      },
      "outputs": [],
      "source": [
        "# Write your answer here\n",
        "##TODO###"
      ]
    },
    {
      "cell_type": "markdown",
      "metadata": {
        "id": "ixoEtaEHbo5g"
      },
      "source": [
        "## (Optional) Part f) Calculating R^2\n",
        "Recall from the lecture that $R^2$ is defined as\n",
        "\n",
        "$$R^2(y, \\hat{y})) = 1 - \\frac{\\sum_{i=1}^{n} (y_i - \\hat{y}_i)^2}{\\sum_{i=1}^{n} (y_i - \\bar{y})^2}$$\n",
        "\n",
        "This represents the proportion of the variance of y that is explained by the independent variables in the model. It is essentially a comparison of the fitted model with the mean of the target values ($\\bar{y}$). Implement your own function to calculate $R^2$ and then compare it with `r2_score` from `sklearn.metrics`"
      ]
    },
    {
      "cell_type": "code",
      "execution_count": null,
      "metadata": {
        "id": "IsOnRtNibo5g"
      },
      "outputs": [],
      "source": [
        "# Fill in the body of the function\n",
        "def rsq(y, pred):\n",
        "    pass\n",
        "    ##TODO###"
      ]
    },
    {
      "cell_type": "code",
      "execution_count": null,
      "metadata": {
        "id": "eieplhFcbo5h"
      },
      "outputs": [],
      "source": [
        "# Compare with sklearn.metrics.r2_score\n",
        "##TODO###"
      ]
    },
    {
      "cell_type": "markdown",
      "metadata": {
        "id": "inQ7Thhibo5h"
      },
      "source": [
        "# 3. Using cross-validation for model selection\n",
        "\n",
        "In this section we will fit a series of classifiers with different parameter settings, and use k-fold cross validation to select the most appropriate parameter values. We will use a *decision tree* classifier. We will cover this classifier in more detail in future lectures. For now, all you need to know is that a decision tree has a parameter `max_depth` that says how many layers the tree may have. More layers means that the tree can divide up the feature space into finer classes, but this could come at the expense of overfitting."
      ]
    },
    {
      "cell_type": "markdown",
      "metadata": {
        "id": "0RT9HTXMbo5h"
      },
      "source": [
        "## Part a)\n",
        "We first of all create an artificial dataset with 2000 samples, 10 features, and 4 classes."
      ]
    },
    {
      "cell_type": "code",
      "execution_count": null,
      "metadata": {
        "id": "jizpoIU-bo5h"
      },
      "outputs": [],
      "source": [
        "from sklearn.datasets import make_classification\n",
        "X, y = make_classification(n_samples = 2000, n_features = 10, n_classes=4, n_informative = 3, random_state=10)"
      ]
    },
    {
      "cell_type": "markdown",
      "metadata": {
        "id": "V1qnYqrGbo5h"
      },
      "source": [
        "Use the function `train_test_split` to separate out 0.2 of your dataset. This will be kept aside as our held-out test set."
      ]
    },
    {
      "cell_type": "code",
      "execution_count": null,
      "metadata": {
        "id": "tW-AXU0qbo5h"
      },
      "outputs": [],
      "source": [
        "# Write your answer here\n",
        "# Write your answer here.\n",
        "# Assign the splits to variables Xtr, Xtest, ytr, ytest\n",
        "# Xtr, Xtest, ytr, ytest = ###TODO###"
      ]
    },
    {
      "cell_type": "markdown",
      "metadata": {
        "id": "5T5xGH3nbo5h"
      },
      "source": [
        "### Part b) Setting up k-fold cross validation\n",
        "We import the function `KFold` from `sklearn.model_selection`, and instantiate it with 10 folds."
      ]
    },
    {
      "cell_type": "code",
      "execution_count": null,
      "metadata": {
        "id": "rVv71hzQbo5h"
      },
      "outputs": [],
      "source": [
        "from sklearn.model_selection import KFold\n",
        "kf = KFold(n_splits=10, random_state=63, shuffle=True)"
      ]
    },
    {
      "cell_type": "markdown",
      "metadata": {
        "id": "seXL0plVbo5i"
      },
      "source": [
        "### Part c) Running cross-validation for different parameter settings\n",
        "We import the decision tree classifier and run it over depths from 1 to `max_d`. For each depth we run cross-validation over the training set."
      ]
    },
    {
      "cell_type": "code",
      "execution_count": null,
      "metadata": {
        "id": "savARnnrbo5i"
      },
      "outputs": [],
      "source": [
        "from sklearn.tree import DecisionTreeClassifier\n",
        "max_d = 20\n",
        "#Set up variables to store training and validation accuracies.\n",
        "train_accuracies = [[] for _ in range(max_d)]\n",
        "val_accuracies = [[] for _ in range(max_d)]\n",
        "\n",
        "# Loop over depths\n",
        "for d in range(max_d):\n",
        "    #Instantiate the DecisionTreeClassifier here. Set the parameter max_depth to d+1\n",
        "    #We add 1 because d ranges from 0 to max_d-1, but we want depths from 1 to max_d\n",
        "    clf = DecisionTreeClassifier(max_depth=d+1)\n",
        "\n",
        "    #Loop over cross-validation splits. Note that we perform cross validation on our training data Xtr.\n",
        "    #We keep our testing data Xtest aside\n",
        "    for train_index, val_index in kf.split(Xtr):\n",
        "        Xtrain, Xval = Xtr[train_index], Xtr[val_index]\n",
        "        ytrain, yval = ytr[train_index], ytr[val_index]\n",
        "\n",
        "        #Fit the classifier on Xtrain and Ytrain\n",
        "        ###TODO###\n",
        "\n",
        "        #Make predictions on Xtrain and assign to a variable pred_train\n",
        "        ###TODO###\n",
        "\n",
        "        #Make predictions on Xval and assign to a variable pred_val\n",
        "        ###TODO###\n",
        "\n",
        "        #Calculate the accuracy of the predictions on the training set and save in the variable train_accuracies\n",
        "        train_accuracies[d].append(accuracy_score(ytrain, pred_train))\n",
        "\n",
        "        #Do the same for the predictions on the validation set\n",
        "        ###TODO###\n",
        "\n",
        "#Calculate the mean and standard deviation for each depth across splits\n",
        "train_accuracy_mean = np.mean(train_accuracies, axis=1)\n",
        "# Complete the lines and uncomment\n",
        "# train_accuracy_stdev = ###TODO###\n",
        "# val_accuracy_mean = ###TODO###\n",
        "# val_accuracy_stdev = ###TODO###\n",
        "\n",
        "# The arrays of means and standard deviation should have shape (max_d, ). The following will generate an error if not.\n",
        "assert(np.shape(train_accuracy_mean)==(max_d,))\n",
        "assert(np.shape(train_accuracy_stdev)==(max_d,))\n",
        "assert(np.shape(val_accuracy_mean)==(max_d,))\n",
        "assert(np.shape(val_accuracy_stdev)==(max_d,))"
      ]
    },
    {
      "cell_type": "markdown",
      "metadata": {
        "id": "E89Kespmbo5i"
      },
      "source": [
        "### Plotting results\n",
        "\n",
        "Plot the mean accuracy attained on the training set and on the validation set at each depth. Your figure should look something like the following:\n",
        "\n",
        "![image-2.png](attachment:image-2.png)\n",
        "\n",
        "What do you notice about these results? Which value of max_depth would you use for your held-out test set?"
      ]
    },
    {
      "cell_type": "code",
      "execution_count": null,
      "metadata": {
        "id": "TuDG81hHbo5i"
      },
      "outputs": [],
      "source": [
        "# Write code to plot your results here\n"
      ]
    },
    {
      "cell_type": "markdown",
      "metadata": {
        "id": "WneYzG8Mbo5i"
      },
      "source": [
        "### Computing accuracy on the test set\n",
        "Based on your plotted results, decide on the best value of `max_depth` to use in your decision tree classifier. Instantiate a new classifier with your chosen value. Fit the model on the training data. Make a prediction on the held-out test data, and calculate the accuracy on the test data. Is the accuracy what you expected? If not, why not?\n"
      ]
    },
    {
      "cell_type": "code",
      "execution_count": null,
      "metadata": {
        "id": "cG_ktSrXbo5i"
      },
      "outputs": [],
      "source": [
        "#Instantiate a new classifier with your chosen value of max_depth\n",
        "\n",
        "#Fit the classifier on the training data\n",
        "\n",
        "#Make a prediction on the test data\n",
        "\n",
        "#Calculate the accuracy on the test data\n"
      ]
    },
    {
      "cell_type": "code",
      "execution_count": null,
      "metadata": {
        "id": "Q_6ypta-bo5i"
      },
      "outputs": [],
      "source": []
    }
  ],
  "metadata": {
    "kernelspec": {
      "display_name": "Python 3 (ipykernel)",
      "language": "python",
      "name": "python3"
    },
    "language_info": {
      "codemirror_mode": {
        "name": "ipython",
        "version": 3
      },
      "file_extension": ".py",
      "mimetype": "text/x-python",
      "name": "python",
      "nbconvert_exporter": "python",
      "pygments_lexer": "ipython3",
      "version": "3.10.12"
    },
    "vscode": {
      "interpreter": {
        "hash": "40d3a090f54c6569ab1632332b64b2c03c39dcf918b08424e98f38b5ae0af88f"
      }
    },
    "colab": {
      "provenance": []
    }
  },
  "nbformat": 4,
  "nbformat_minor": 0
}